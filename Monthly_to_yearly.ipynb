{
 "cells": [
  {
   "cell_type": "code",
   "execution_count": null,
   "id": "9c65f95e-3571-438b-8764-b40189d841de",
   "metadata": {},
   "outputs": [],
   "source": [
    "import os\n",
    "import re\n",
    "import rasterio\n",
    "from rasterio.enums import Resampling\n",
    "\n",
    "def create_yearly_tif(folder_path, output_folder):\n",
    "    # Create a dictionary to store data for each year\n",
    "    yearly_data = {}\n",
    "    tif_files = [f for f in os.listdir(folder_path) if f.endswith('.tif')]\n",
    "\n",
    "    # Iterate through TIF files in the folder\n",
    "    for filename in os.listdir(folder_path):\n",
    "        if filename.endswith(\".tif\"):\n",
    "            # Extract year from the filename using regular expression\n",
    "            match = re.match(r\"P_CHIRPS.v2.0_mm-month-1_monthly_(\\d{4}).\\d{2}.\\d{2}.tif\", filename)\n",
    "            if match:\n",
    "                year = match.group(1)\n",
    "\n",
    "                # Open the TIF file using rasterio\n",
    "                with rasterio.open(os.path.join(folder_path, filename)) as src:\n",
    "                    # Read data and resample if needed\n",
    "                    data = src.read(1, resampling=Resampling.average)\n",
    "\n",
    "                    # Aggregate data for the year (you might need to adjust this depending on your data format)\n",
    "                    if year not in yearly_data:\n",
    "                        print(year)\n",
    "                        yearly_data[year] = data\n",
    "                    else:\n",
    "                        yearly_data[year] += data\n",
    "\n",
    "    # Create yearly TIF files\n",
    "    for year, data in yearly_data.items():\n",
    "        # Define the output file path\n",
    "        output_path = os.path.join(output_folder, f\"P_CHIRPS.v2.0_mm-month-1_yearly_{year}.tif\")\n",
    "\n",
    "        # Get the metadata from one of the input files\n",
    "        with rasterio.open(os.path.join(folder_path, tif_files[0])) as src:\n",
    "            profile = src.profile\n",
    "\n",
    "        # Update metadata with the new output path\n",
    "#         meta.update(count=1, driver='GTiff', compress='lzw', nodata=None)\n",
    "\n",
    "        # Write the aggregated data to the new TIF file\n",
    "        with rasterio.open(output_path, 'w', **profile) as dst:\n",
    "            dst.write(data, 1)\n",
    "        print(year)\n",
    "\n",
    "# Example usage\n",
    "folder_path = r\"/efs/CWA/rs_input_20yrs/All_20/P/Monthly\"\n",
    "output_folder = r\"/efs/Uganada/CHIRPS\"\n",
    "create_yearly_tif(folder_path, output_folder)\n"
   ]
  },
  {
   "cell_type": "code",
   "execution_count": null,
   "id": "a0c5bb13-d049-4bd1-a569-5219eb59f603",
   "metadata": {},
   "outputs": [],
   "source": []
  }
 ],
 "metadata": {
  "kernelspec": {
   "display_name": "Python 3 (ipykernel)",
   "language": "python",
   "name": "python3"
  },
  "language_info": {
   "codemirror_mode": {
    "name": "ipython",
    "version": 3
   },
   "file_extension": ".py",
   "mimetype": "text/x-python",
   "name": "python",
   "nbconvert_exporter": "python",
   "pygments_lexer": "ipython3",
   "version": "3.7.7"
  }
 },
 "nbformat": 4,
 "nbformat_minor": 5
}
