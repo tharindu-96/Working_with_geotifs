{
 "cells": [
  {
   "cell_type": "code",
   "execution_count": 10,
   "id": "7bd04599-818f-4d8a-8308-aa5140ffc8c1",
   "metadata": {},
   "outputs": [
    {
     "name": "stdout",
     "output_type": "stream",
     "text": [
      "Added P_April_avg.tif and ET_ETincr_April_avg.tif, saved as /home/iwmi-wa/tmp_disk/conti_average/combined_avg/Monthly_named/Water_Yield/Water_Yield_P_April_avg.tif\n",
      "Added P_August_avg.tif and ET_ETincr_August_avg.tif, saved as /home/iwmi-wa/tmp_disk/conti_average/combined_avg/Monthly_named/Water_Yield/Water_Yield_P_August_avg.tif\n",
      "Added P_December_avg.tif and ET_ETincr_December_avg.tif, saved as /home/iwmi-wa/tmp_disk/conti_average/combined_avg/Monthly_named/Water_Yield/Water_Yield_P_December_avg.tif\n",
      "Added P_February_avg.tif and ET_ETincr_February_avg.tif, saved as /home/iwmi-wa/tmp_disk/conti_average/combined_avg/Monthly_named/Water_Yield/Water_Yield_P_February_avg.tif\n",
      "Added P_January_avg.tif and ET_ETincr_January_avg.tif, saved as /home/iwmi-wa/tmp_disk/conti_average/combined_avg/Monthly_named/Water_Yield/Water_Yield_P_January_avg.tif\n",
      "Added P_July_avg.tif and ET_ETincr_July_avg.tif, saved as /home/iwmi-wa/tmp_disk/conti_average/combined_avg/Monthly_named/Water_Yield/Water_Yield_P_July_avg.tif\n",
      "Added P_June_avg.tif and ET_ETincr_June_avg.tif, saved as /home/iwmi-wa/tmp_disk/conti_average/combined_avg/Monthly_named/Water_Yield/Water_Yield_P_June_avg.tif\n",
      "Added P_March_avg.tif and ET_ETincr_March_avg.tif, saved as /home/iwmi-wa/tmp_disk/conti_average/combined_avg/Monthly_named/Water_Yield/Water_Yield_P_March_avg.tif\n",
      "Added P_May_avg.tif and ET_ETincr_May_avg.tif, saved as /home/iwmi-wa/tmp_disk/conti_average/combined_avg/Monthly_named/Water_Yield/Water_Yield_P_May_avg.tif\n",
      "Added P_November_avg.tif and ET_ETincr_November_avg.tif, saved as /home/iwmi-wa/tmp_disk/conti_average/combined_avg/Monthly_named/Water_Yield/Water_Yield_P_November_avg.tif\n",
      "Added P_October_avg.tif and ET_ETincr_October_avg.tif, saved as /home/iwmi-wa/tmp_disk/conti_average/combined_avg/Monthly_named/Water_Yield/Water_Yield_P_October_avg.tif\n",
      "Added P_September_avg.tif and ET_ETincr_September_avg.tif, saved as /home/iwmi-wa/tmp_disk/conti_average/combined_avg/Monthly_named/Water_Yield/Water_Yield_P_September_avg.tif\n"
     ]
    }
   ],
   "source": [
    "import os\n",
    "import rasterio\n",
    "import numpy as np\n",
    "\n",
    "def add_geotiffs(folder1, folder2, output_folder):\n",
    "    # Make sure output folder exists\n",
    "    if not os.path.exists(output_folder):\n",
    "        os.makedirs(output_folder)\n",
    "\n",
    "    # Get list of files in both folders\n",
    "    files1 = sorted(os.listdir(folder1))\n",
    "    files2 = sorted(os.listdir(folder2))\n",
    "\n",
    "    # Iterate over each pair of files and add them\n",
    "    for file1, file2 in zip(files1, files2):\n",
    "        # Open the GeoTIFF files\n",
    "        with rasterio.open(os.path.join(folder1, file1)) as src1, rasterio.open(os.path.join(folder2, file2)) as src2:\n",
    "            # Read raster data\n",
    "            data1 = src1.read(1)\n",
    "            data1[data1 < 0] = np.nan\n",
    "\n",
    "            data2 = src2.read(1)\n",
    "            data2[data2 < 0] = np.nan\n",
    "\n",
    "            # Perform addition\n",
    "            result = (data1 - data2)\n",
    "\n",
    "            # Define output path\n",
    "            output_path = os.path.join(output_folder, f\"Water_Yield_{file1}\")\n",
    "\n",
    "            # Write the result to a new GeoTIFF file\n",
    "            profile = src1.profile\n",
    "            profile.update(dtype=rasterio.float32)\n",
    "\n",
    "            with rasterio.open(output_path, 'w', **profile) as dst:\n",
    "                dst.write(result, 1)\n",
    "\n",
    "            print(f\"Added {file1} and {file2}, saved as {output_path}\")\n",
    "\n",
    "# Provided folder paths\n",
    "folder1 = r'/home/iwmi-wa/tmp_disk/conti_average/combined_avg/Monthly_named/P'\n",
    "folder2 = r'/home/iwmi-wa/tmp_disk/conti_average/combined_avg/Monthly_named/ET'\n",
    "output_folder = r'/home/iwmi-wa/tmp_disk/conti_average/combined_avg/Monthly_named/Water_Yield'\n",
    "\n",
    "# Call the function\n",
    "add_geotiffs(folder1, folder2, output_folder)\n"
   ]
  },
  {
   "cell_type": "code",
   "execution_count": null,
   "id": "4baf95c8-f132-4038-b835-8371da49dc81",
   "metadata": {},
   "outputs": [],
   "source": [
    "import rasterio\n",
    "import numpy as np\n",
    "\n",
    "# Open the TIFF file for reading\n",
    "with rasterio.open(r\"/home/iwmi-wa/200GB_temp_disk/conti_average/combined_avg/yearly_out/AFR_SRO_M_SRO_yearly_avg_N5.tif\") as src:\n",
    "    # Read the raster data as a NumPy array\n",
    "    data = src.read(1)\n",
    "\n",
    "    # Create a mask for values greater than 1000000\n",
    "    mask = data > 1000000\n",
    "#     mask = data < 0\n",
    "    # Set values above 1000000 to NoData (typically represented as None)\n",
    "    data[mask] = src.nodata\n",
    "    # data[mask1] = src.nodata\n",
    "\n",
    "    # Create an output TIFF file for writing\n",
    "    with rasterio.open(r\"/home/iwmi-wa/200GB_temp_disk/conti_average/combined_avg/yearly_out/AFR_SRO_M_SRO_yearly_avg_N6.tif\", 'w', **src.profile) as dst:\n",
    "        # Write the modified data to the output file\n",
    "        dst.write(data, 1)\n",
    "\n",
    "print(\"Conversion complete.\")\n"
   ]
  }
 ],
 "metadata": {
  "kernelspec": {
   "display_name": "Python 3 (ipykernel)",
   "language": "python",
   "name": "python3"
  },
  "language_info": {
   "codemirror_mode": {
    "name": "ipython",
    "version": 3
   },
   "file_extension": ".py",
   "mimetype": "text/x-python",
   "name": "python",
   "nbconvert_exporter": "python",
   "pygments_lexer": "ipython3",
   "version": "3.7.7"
  }
 },
 "nbformat": 4,
 "nbformat_minor": 5
}
