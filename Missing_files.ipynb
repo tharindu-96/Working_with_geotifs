{
 "cells": [
  {
   "cell_type": "code",
   "execution_count": 2,
   "id": "0aad3d18-6931-4431-86ee-f93ac6a17520",
   "metadata": {},
   "outputs": [
    {
     "name": "stdout",
     "output_type": "stream",
     "text": [
      "[]\n",
      "No missing files found.\n"
     ]
    }
   ],
   "source": [
    "import os\n",
    "from datetime import datetime, timedelta\n",
    "import re\n",
    "\n",
    "def generate_expected_filenames(start_date, end_date):\n",
    "    current_date = start_date\n",
    "    expected_filenames = []\n",
    "\n",
    "    while current_date <= end_date:\n",
    "        formatted_date = current_date.strftime('%Y.%m.%d')\n",
    "        expected_filenames.append(f'africa_arc_{formatted_date}.tif')\n",
    "        current_date += timedelta(days=1)\n",
    "\n",
    "    return expected_filenames\n",
    "\n",
    "def find_missing_files(folder_path, expected_filenames):\n",
    "    actual_filenames = os.listdir(folder_path)\n",
    "    missing_files = set(expected_filenames) - set(actual_filenames)\n",
    "    missing_files = sorted(missing_files, key=lambda x: datetime.strptime(re.search(r'(\\d{4}\\.\\d{2}\\.\\d{2})', x.split('_')[2] ).group(1), \"%Y.%m.%d\"))\n",
    "    return list(missing_files)\n",
    "\n",
    "def main():\n",
    "    start_date = datetime(2001, 1, 1)\n",
    "    end_date = datetime(2022, 4, 28)\n",
    "    folder_path = r'/efs/Incomati/Precipitation/Arc/Daily/'\n",
    "\n",
    "    expected_filenames = generate_expected_filenames(start_date, end_date)\n",
    "    missing_files = find_missing_files(folder_path, expected_filenames)\n",
    "    print( missing_files )\n",
    "\n",
    "    if missing_files:\n",
    "        print('Missing files:')\n",
    "        for missing_file in missing_files:\n",
    "            print(missing_file)\n",
    "    else:\n",
    "        print('No missing files found.')\n",
    "\n",
    "if __name__ == \"__main__\":\n",
    "    main()\n"
   ]
  },
  {
   "cell_type": "code",
   "execution_count": null,
   "id": "7a24b32f-ee32-4527-a618-5039494b1339",
   "metadata": {},
   "outputs": [],
   "source": []
  }
 ],
 "metadata": {
  "kernelspec": {
   "display_name": "Python 3 (ipykernel)",
   "language": "python",
   "name": "python3"
  },
  "language_info": {
   "codemirror_mode": {
    "name": "ipython",
    "version": 3
   },
   "file_extension": ".py",
   "mimetype": "text/x-python",
   "name": "python",
   "nbconvert_exporter": "python",
   "pygments_lexer": "ipython3",
   "version": "3.7.7"
  }
 },
 "nbformat": 4,
 "nbformat_minor": 5
}
