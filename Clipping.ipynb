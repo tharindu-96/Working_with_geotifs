{
 "cells": [
  {
   "cell_type": "code",
   "execution_count": 5,
   "id": "808753e5-2451-4d87-9b8e-888cc8e43d21",
   "metadata": {},
   "outputs": [],
   "source": [
    "import os\n",
    "import rasterio\n",
    "from rasterio.mask import mask\n",
    "import geopandas as gpd\n",
    "import numpy as np\n",
    "# Specify the paths to the folder containing GeoTIFF files, the shapefile, and the output folder\n",
    "tif_folder = r'/efs/Uganada/SSEBop_season/Wet'\n",
    "shapefile_path = r'/efs/Uganada/Boundry_AwojaOkere_Okok_1.shp'\n",
    "output_folder = r'/efs/Uganada/SSEBop_season/Wet_clipped_new'\n",
    "\n",
    "# Create the output folder if it doesn't exist\n",
    "os.makedirs(output_folder, exist_ok=True)\n",
    "\n",
    "# Read the shapefile using geopandas\n",
    "gdf = gpd.read_file(shapefile_path)\n",
    "\n",
    "# Iterate through each GeoTIFF file in the folder\n",
    "for tif_filename in os.listdir(tif_folder):\n",
    "    if tif_filename.endswith('.tif') or tif_filename.endswith('.tiff'):\n",
    "        tif_path = os.path.join(tif_folder, tif_filename)\n",
    "\n",
    "        # Open the GeoTIFF file\n",
    "        with rasterio.open(tif_path) as src:\n",
    "            for index, row in gdf.iterrows():\n",
    "                # Get the geometry of the feature\n",
    "                geom = row['geometry']\n",
    "\n",
    "                # Mask the GeoTIFF using the shapefile geometry\n",
    "                out_image, out_transform = mask(src, [geom], crop=True)\n",
    "                out_image[out_image < 0] = np.nan\n",
    "\n",
    "                # Do something with the extracted data (out_image)\n",
    "                # For example, save the extracted data to a new GeoTIFF file\n",
    "                output_filename = f\"uganda_{tif_filename.replace('.tif', f'_boundary_{index + 1}')}.tif\"\n",
    "                output_path = os.path.join(output_folder, output_filename)\n",
    "                with rasterio.open(output_path, 'w', driver='GTiff', height=out_image.shape[1], width=out_image.shape[2], count=1, dtype=out_image.dtype, crs=src.crs, transform=out_transform) as dst:\n",
    "                    dst.write(out_image)\n",
    "\n",
    "# Note: Make sure to install the required Python packages (`rasterio` and `geopandas`) using a package manager like `pip`.\n"
   ]
  },
  {
   "cell_type": "code",
   "execution_count": null,
   "id": "0a537319-7148-4142-a11d-f8ab45ac9bf9",
   "metadata": {},
   "outputs": [],
   "source": []
  }
 ],
 "metadata": {
  "kernelspec": {
   "display_name": "Python 3 (ipykernel)",
   "language": "python",
   "name": "python3"
  },
  "language_info": {
   "codemirror_mode": {
    "name": "ipython",
    "version": 3
   },
   "file_extension": ".py",
   "mimetype": "text/x-python",
   "name": "python",
   "nbconvert_exporter": "python",
   "pygments_lexer": "ipython3",
   "version": "3.7.7"
  }
 },
 "nbformat": 4,
 "nbformat_minor": 5
}
